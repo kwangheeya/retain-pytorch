{
 "cells": [
  {
   "cell_type": "code",
   "execution_count": 1,
   "metadata": {},
   "outputs": [
    {
     "name": "stdout",
     "output_type": "stream",
     "text": [
      "41 {'age': 0, 'gender': 1, 'height': 2, 'icutype': 3, 'weight': 4, 'gcs': 5, 'hr': 6, 'nidiasabp': 7, 'nimap': 8, 'nisysabp': 9, 'resprate': 10, 'temp': 11, 'urine': 12, 'hct': 13, 'bun': 14, 'creatinine': 15, 'glucose': 16, 'hco3': 17, 'mg': 18, 'platelets': 19, 'k': 20, 'na': 21, 'wbc': 22, 'ph': 23, 'paco2': 24, 'pao2': 25, 'diasabp': 26, 'fio2': 27, 'map': 28, 'mechvent': 29, 'sysabp': 30, 'sao2': 31, 'albumin': 32, 'alp': 33, 'alt': 34, 'ast': 35, 'bilirubin': 36, 'lactate': 37, 'cholesterol': 38, 'troponini': 39, 'troponint': 40}\n"
     ]
    }
   ],
   "source": [
    "import numpy as np\n",
    "y_dict = {}\n",
    "\n",
    "f = open('data/physionet-a/Outcomes-a.txt', 'r', encoding='utf8')\n",
    "f.readline()\n",
    "for line in f:\n",
    "    str_split = line.split(',')\n",
    "    stay_day = int(str_split[3])\n",
    "    y_dict[str_split[0]] = 1 if stay_day < 3 else 0\n",
    "f.close()\n",
    "\n",
    "#parameters = {'recordid', 'age', 'gender', 'height', 'icutype', 'weight'}\n",
    "parameters = {'recordid'}\n",
    "param_dict = {}\n",
    "\n",
    "for record_id in y_dict:\n",
    "    f = open('data/physionet-a/set-a/'+record_id+'.txt', 'r', encoding='utf8')\n",
    "    f.readline()\n",
    "    for line in f:\n",
    "        str_split = line.lower().split(',')\n",
    "        if str_split[1] not in parameters:\n",
    "            param_dict[str_split[1]] = len(param_dict)\n",
    "            parameters.add(str_split[1])\n",
    "    f.close()\n",
    "\n",
    "print(len(param_dict), param_dict)\n"
   ]
  },
  {
   "cell_type": "code",
   "execution_count": 2,
   "metadata": {},
   "outputs": [
    {
     "name": "stdout",
     "output_type": "stream",
     "text": [
      "133040\n",
      "133308\n",
      "133780\n",
      "133959\n",
      "134038\n",
      "135365\n",
      "135481\n",
      "136383\n",
      "137516\n",
      "139030\n",
      "139487\n",
      "139668\n",
      "140668\n",
      "140677\n",
      "141218\n",
      "max time step 203\n",
      "3200 400 400\n"
     ]
    }
   ],
   "source": [
    "x_dict = {}\n",
    "for record_id in y_dict:\n",
    "    x_dict[record_id] = {}\n",
    "    f = open('data/physionet-a/set-a/'+record_id+'.txt', 'r', encoding='utf8')\n",
    "    f.readline()\n",
    "    for line in f:\n",
    "        str_split = line.lower().split(',')\n",
    "        time_idx = str_split[0]\n",
    "        #if time_idx == '00:00':\n",
    "        #    continue\n",
    "        if not(time_idx in x_dict[record_id]):\n",
    "            x_dict[record_id][time_idx] = [0]*len(param_dict)\n",
    "        if str_split[1] not in param_dict:\n",
    "            continue\n",
    "        if float(str_split[2]) > -1:\n",
    "            x_dict[record_id][time_idx][param_dict[str_split[1]]] = float(str_split[2])\n",
    "    f.close()\n",
    "\n",
    "max_t = 0\n",
    "for record_id in x_dict:\n",
    "    cur_len = len(x_dict[record_id])\n",
    "    if cur_len > max_t:\n",
    "        max_t = cur_len\n",
    "    if cur_len > 155:\n",
    "        print(record_id)\n",
    "print('max time step', max_t)\n",
    "x_train = []\n",
    "y_train = []\n",
    "x_dev = []\n",
    "y_dev = []\n",
    "x_test = []\n",
    "y_test = []\n",
    "arr = [*x_dict]\n",
    "np.random.shuffle(arr)\n",
    "train_arr = set(arr[:3200])\n",
    "dev_arr = set(arr[3200:3600])\n",
    "for record_id in x_dict:\n",
    "    if len(x_dict[record_id]) <= 0: # or len(x_dict[record_id]) >= 155:\n",
    "        continue\n",
    "    x_seq = []\n",
    "    for time_idx in sorted(x_dict[record_id]):\n",
    "        x_seq += x_dict[record_id][time_idx]\n",
    "    x_seq = np.array(x_seq).reshape(-1, len(param_dict))\n",
    "\n",
    "    y_value = y_dict[record_id]\n",
    "    if record_id in train_arr:\n",
    "        x_train.append(x_seq)\n",
    "        y_train.append(np.array([y_value]))\n",
    "    elif record_id in dev_arr:\n",
    "        x_test.append(x_seq)\n",
    "        y_test.append(np.array([y_value]))        \n",
    "    else:\n",
    "        x_dev.append(x_seq)\n",
    "        y_dev.append(np.array([y_value]))         \n",
    "#print(x_train, y_train)\n",
    "print(len(x_train), len(x_dev), len(x_test))"
   ]
  },
  {
   "cell_type": "code",
   "execution_count": 3,
   "metadata": {},
   "outputs": [],
   "source": [
    "np.save('data/physionet-a/train.x.npy', x_train)\n",
    "np.save('data/physionet-a/train.y.npy', y_train)\n",
    "np.save('data/physionet-a/dev.x.npy', x_dev)\n",
    "np.save('data/physionet-a/dev.y.npy', y_dev)\n",
    "np.save('data/physionet-a/test.x.npy', x_test)\n",
    "np.save('data/physionet-a/test.y.npy', y_test)"
   ]
  },
  {
   "cell_type": "code",
   "execution_count": 4,
   "metadata": {},
   "outputs": [],
   "source": [
    "#d = np.load('data/physionet-a/train.x.npy')"
   ]
  },
  {
   "cell_type": "code",
   "execution_count": null,
   "metadata": {},
   "outputs": [],
   "source": []
  }
 ],
 "metadata": {
  "kernelspec": {
   "display_name": "Python 3",
   "language": "python",
   "name": "python3"
  },
  "language_info": {
   "codemirror_mode": {
    "name": "ipython",
    "version": 3
   },
   "file_extension": ".py",
   "mimetype": "text/x-python",
   "name": "python",
   "nbconvert_exporter": "python",
   "pygments_lexer": "ipython3",
   "version": "3.7.2"
  }
 },
 "nbformat": 4,
 "nbformat_minor": 2
}
